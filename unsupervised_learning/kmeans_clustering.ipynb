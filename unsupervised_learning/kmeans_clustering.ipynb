{
 "cells": [
  {
   "cell_type": "markdown",
   "metadata": {},
   "source": [
    "# k-Means Clustering\n",
    "\n",
    "This notebook demonstrates using k-Means clustering on the digits dataset. It additionally shows how to visualize the results of clustering using t-SNE."
   ]
  },
  {
   "cell_type": "code",
   "execution_count": null,
   "metadata": {},
   "outputs": [],
   "source": [
    "import numpy as np\n",
    "from sklearn.cluster import KMeans\n",
    "from sklearn.datasets import load_digits\n",
    "from matplotlib import cm\n",
    "from sklearn.manifold import TSNE\n",
    "import matplotlib.pyplot as plt\n",
    "\n",
    "\n",
    "# Load data\n",
    "digits = load_digits()\n",
    "data = digits.data\n",
    "\n",
    "# Create model\n",
    "model = KMeans(n_clusters=10, random_state=42)\n",
    "\n",
    "# Fit model to data\n",
    "model.fit(data)\n",
    "\n",
    "# Predict clusters\n",
    "clusters = model.predict(data)\n",
    "\n",
    "# Create TSNE instance: model\n",
    "model = TSNE(learning_rate=100)\n",
    "\n",
    "# Apply fit_transform to samples: tsne_features\n",
    "tsne_features = model.fit_transform(data)\n",
    "\n",
    "# Select the 0th feature: xs\n",
    "xs = tsne_features[:,0]\n",
    "\n",
    "# Select the 1st feature: ys\n",
    "ys = tsne_features[:,1]\n",
    "\n",
    "# Use a clearer color scheme\n",
    "plt.figure(figsize=(10, 8))\n",
    "\n",
    "# Create a color map with 10 colors\n",
    "colors = cm.rainbow(np.linspace(0, 1, 10))\n",
    "\n",
    "# Create a scatter plot\n",
    "for i in range(10):\n",
    "    plt.scatter(xs[clusters == i], ys[clusters == i], color=colors[i], label=i)\n",
    "plt.legend()\n",
    "plt.show()"
   ]
  }
 ],
 "metadata": {
  "kernelspec": {
   "display_name": "cse6363",
   "language": "python",
   "name": "python3"
  },
  "language_info": {
   "codemirror_mode": {
    "name": "ipython",
    "version": 3
   },
   "file_extension": ".py",
   "mimetype": "text/x-python",
   "name": "python",
   "nbconvert_exporter": "python",
   "pygments_lexer": "ipython3",
   "version": "3.10.9"
  }
 },
 "nbformat": 4,
 "nbformat_minor": 2
}
