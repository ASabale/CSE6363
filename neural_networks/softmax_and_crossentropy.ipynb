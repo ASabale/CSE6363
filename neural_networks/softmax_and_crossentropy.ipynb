{
 "cells": [
  {
   "cell_type": "markdown",
   "id": "64c07f7f-2fa0-46b7-aa00-0dcb7012e023",
   "metadata": {},
   "source": [
    "# Softmax and Cross-Entropy\n",
    "\n",
    "The softmax function is used with cross-entropy loss when training neural networks on multi-class classification problems.\n",
    "This notebooks explores the function to gain an understanding of their output during both forward and backward passes.\n",
    "\n",
    "The softmax function is defines as\n",
    "\n",
    "$$\n",
    "\\mathbf{p} = \\frac{\\exp(y_i)}{\\sum_{j=1}^{n} \\exp(y_j)}.\n",
    "$$\n",
    "\n",
    "Cross-Entropy is defined as\n",
    "\n",
    "$$\n",
    "L = -\\sum_{i=1}^n \\hat{y}_i \\log(p_i),\n",
    "$$\n",
    "\n",
    "where $\\mathbf{p}$ is the result of softmax and $\\hat{\\mathbf{y}}$ is the ground-truth."
   ]
  },
  {
   "cell_type": "code",
   "execution_count": 1,
   "id": "4afb3134-8663-4c06-9f48-49afef2d9f00",
   "metadata": {},
   "outputs": [],
   "source": [
    "import numpy as np\n",
    "\n",
    "\n",
    "def softmax(x):\n",
    "    '''Implements the softmax function.\n",
    "    '''\n",
    "    num = np.exp(x)\n",
    "    \n",
    "    return num / np.sum(num, axis=0, keepdims=True)\n",
    "\n",
    "\n",
    "def softmax_stable(x):\n",
    "    '''Implements a stable version of softmax.\n",
    "    '''\n",
    "    num = np.exp(x - np.max(x))\n",
    "    \n",
    "    return num / np.sum(num, axis=0, keepdims=True)"
   ]
  },
  {
   "cell_type": "code",
   "execution_count": 3,
   "id": "0700dd04-6a2f-4ba3-b335-2a730a78866b",
   "metadata": {},
   "outputs": [
    {
     "name": "stdout",
     "output_type": "stream",
     "text": [
      "[2.06106005e-09 4.53978686e-05 9.99954600e-01]\n"
     ]
    }
   ],
   "source": [
    "# Make up some scores -- class 3 has the highest\n",
    "y = [10, 20, 30]\n",
    "\n",
    "# Squashes the scores, normalizing the output to sum to 1.\n",
    "p = softmax(y)\n",
    "\n",
    "print(p)"
   ]
  },
  {
   "cell_type": "markdown",
   "id": "c9e60ed4-800d-4bea-90e5-189d4f4b5942",
   "metadata": {},
   "source": [
    "The original version of softmax is not stable for larger scores.\n",
    "Consider the next example."
   ]
  },
  {
   "cell_type": "code",
   "execution_count": 5,
   "id": "7813913b-ea21-48e7-a521-88a5808a5808",
   "metadata": {},
   "outputs": [
    {
     "name": "stdout",
     "output_type": "stream",
     "text": [
      "[ 0.  0. nan]\n"
     ]
    },
    {
     "name": "stderr",
     "output_type": "stream",
     "text": [
      "/home/alex/anaconda3/envs/cse6363/lib/python3.7/site-packages/ipykernel_launcher.py:7: RuntimeWarning: overflow encountered in exp\n",
      "  import sys\n",
      "/home/alex/anaconda3/envs/cse6363/lib/python3.7/site-packages/ipykernel_launcher.py:9: RuntimeWarning: invalid value encountered in true_divide\n",
      "  if __name__ == '__main__':\n"
     ]
    }
   ],
   "source": [
    "# Make up some scores -- class 3 has the highest\n",
    "y = [150, 500, 800]\n",
    "\n",
    "# exp(x) is a large number for even a relatively small number like 150.\n",
    "p = softmax(y)\n",
    "\n",
    "print(p)"
   ]
  },
  {
   "cell_type": "markdown",
   "id": "cc0504e3-0888-4e1e-95d4-5bbd560075d2",
   "metadata": {},
   "source": [
    "To resolve this, subtract the largest value from the input vector.\n",
    "This does not change the result of softmax, but it does result in a more numerically stable implementation."
   ]
  },
  {
   "cell_type": "code",
   "execution_count": 6,
   "id": "8a29fdf8-452d-42cb-8066-f5fab1c7b4fc",
   "metadata": {},
   "outputs": [
    {
     "name": "stdout",
     "output_type": "stream",
     "text": [
      "[5.11195195e-283 5.14820022e-131 1.00000000e+000]\n"
     ]
    }
   ],
   "source": [
    "# Make up some scores -- class 3 has the highest\n",
    "y = [150, 500, 800]\n",
    "\n",
    "# exp(x) is a large number for even a relatively small number like 150.\n",
    "p = softmax_stable(y)\n",
    "\n",
    "print(p)"
   ]
  }
 ],
 "metadata": {
  "kernelspec": {
   "display_name": "Python [conda env:cse6363] *",
   "language": "python",
   "name": "conda-env-cse6363-py"
  },
  "language_info": {
   "codemirror_mode": {
    "name": "ipython",
    "version": 3
   },
   "file_extension": ".py",
   "mimetype": "text/x-python",
   "name": "python",
   "nbconvert_exporter": "python",
   "pygments_lexer": "ipython3",
   "version": "3.7.12"
  }
 },
 "nbformat": 4,
 "nbformat_minor": 5
}
