{
 "cells": [
  {
   "cell_type": "markdown",
   "id": "24a3e817-c112-4d12-8426-49647f96a62f",
   "metadata": {},
   "source": [
    "# Neural Networks"
   ]
  },
  {
   "cell_type": "code",
   "execution_count": 1,
   "id": "41ab5b50-0cf9-48d6-bd47-ef0a74d98e91",
   "metadata": {},
   "outputs": [],
   "source": [
    "import numpy as np\n",
    "import matplotlib.pyplot as plt\n",
    "\n",
    "from sklearn.datasets import fetch_openml"
   ]
  },
  {
   "cell_type": "code",
   "execution_count": 2,
   "id": "f0234cf0-97f5-4ff3-8194-ed5673c35e39",
   "metadata": {},
   "outputs": [],
   "source": [
    "samples, targets = fetch_openml(\"mnist_784\", version=1, return_X_y=True, as_frame=False)"
   ]
  },
  {
   "cell_type": "code",
   "execution_count": 3,
   "id": "bfa21950-83c7-46e5-a16b-a2fc7fa0df6d",
   "metadata": {},
   "outputs": [],
   "source": [
    "# Normalization\n",
    "samples = samples / 255."
   ]
  },
  {
   "cell_type": "code",
   "execution_count": 2,
   "id": "b6634f8c-d26f-49a9-a8c1-bec5c09f7987",
   "metadata": {},
   "outputs": [],
   "source": [
    "def get_one_hot(targets, nb_classes):\n",
    "    res = np.eye(nb_classes)[np.array(targets).reshape(-1)]\n",
    "    return res.reshape(list(targets.shape)+[nb_classes])\n",
    "\n",
    "\n",
    "def sigmoid(x):\n",
    "    return 1. / (1. + np.exp(-x))\n",
    "\n",
    "\n",
    "def sigmoid_grad(out, grad_in):\n",
    "    return out * (1 - out) * grad_in\n",
    "\n",
    "\n",
    "def softmax(x):\n",
    "    num = np.exp(x - np.max(x))\n",
    "    \n",
    "    return num / np.sum(num, axis=0, keepdims=True)\n",
    "\n",
    "def mse(x, y):\n",
    "    return np.mean((x - y)**2)\n",
    "\n",
    "def mse_grade(x, y):\n",
    "    return x - y\n",
    "\n",
    "\n",
    "# def softmax_grad(out, grad_in):\n",
    "#       return (np.einsum('ij,jk->ijk', out, np.eye(out.shape[-1])) \\\n",
    "#            - np.einsum('ij,ik->ijk', out, out))\n",
    "    \n",
    "    \n",
    "def softmax_grad(probs, bp_err):\n",
    "    dim = probs.shape[1]\n",
    "    output = np.empty(probs.shape)\n",
    "    for j in range(dim):\n",
    "        d_prob_over_xj = - (probs * probs[:,[j]])  # i.e. prob_k * prob_j, no matter k==j or not\n",
    "        d_prob_over_xj[:,j] += probs[:,j]   # i.e. when k==j, +prob_j\n",
    "        output[:,j] = np.sum(bp_err * d_prob_over_xj, axis=1)\n",
    "    return output\n",
    "\n",
    "\n",
    "def cross_entropy_loss(pred, target):\n",
    "    return -target * np.log(pred)\n",
    "\n",
    "\n",
    "def cross_entropy_grad(pred, target):\n",
    "    return target - pred"
   ]
  },
  {
   "cell_type": "code",
   "execution_count": 43,
   "id": "2601a58a-b102-45d6-a4c8-71bb2769455d",
   "metadata": {},
   "outputs": [],
   "source": [
    "num_features = samples.shape[1]\n",
    "num_classes = 10\n",
    "\n",
    "# Output layer configuration\n",
    "layer1_weights = (np.random.rand(num_classes, num_features + 1) - 0.5)"
   ]
  },
  {
   "cell_type": "markdown",
   "id": "a3398543-370e-4054-8c3a-b05b09ee7d04",
   "metadata": {},
   "source": [
    "# Forward Pass"
   ]
  },
  {
   "cell_type": "code",
   "execution_count": 495,
   "id": "b49f7467-41f0-4ba7-9892-4d43b43c87f7",
   "metadata": {},
   "outputs": [],
   "source": [
    "layer1_a = layer1_weights @ np.concatenate((np.ones((samples.shape[0], 1)), samples), axis=1).T\n",
    "layer1_z = softmax(layer1_a)"
   ]
  },
  {
   "cell_type": "code",
   "execution_count": 496,
   "id": "d52b697b-0302-4435-b37d-363ff8e6b21b",
   "metadata": {},
   "outputs": [],
   "source": [
    "loss = cross_entropy_loss(layer1_z.T, get_one_hot(targets.astype(int), 10))"
   ]
  },
  {
   "cell_type": "code",
   "execution_count": 497,
   "id": "d51f83f4-79cc-4182-86ce-49a037821a3d",
   "metadata": {},
   "outputs": [
    {
     "name": "stdout",
     "output_type": "stream",
     "text": [
      "4.428888817314736\n"
     ]
    }
   ],
   "source": [
    "print(np.sum(np.mean(loss, axis=0)))"
   ]
  },
  {
   "cell_type": "markdown",
   "id": "e99c7691-c7dc-4532-afbc-994360018520",
   "metadata": {},
   "source": [
    "# Backward Pass"
   ]
  },
  {
   "cell_type": "code",
   "execution_count": 465,
   "id": "4c42955a-86b8-43f5-a0e9-0aba47f75679",
   "metadata": {},
   "outputs": [],
   "source": [
    "d_loss = cross_entropy_grad(layer1_z.T, get_one_hot(targets.astype(int), 10))\n",
    "d_layer1_z = softmax_grad(layer1_z.T, d_loss)\n",
    "d_layer1_weights = d_layer1_z.T @ np.concatenate((np.ones((samples.shape[0], 1)), samples), axis=1)"
   ]
  },
  {
   "cell_type": "code",
   "execution_count": 44,
   "id": "ba73e5f1-3a0b-4eca-8aae-0488c4e123a5",
   "metadata": {},
   "outputs": [],
   "source": [
    "losses = []"
   ]
  },
  {
   "cell_type": "code",
   "execution_count": 66,
   "id": "95138b10-ffa3-488c-b7f2-cc3e038252fa",
   "metadata": {},
   "outputs": [],
   "source": [
    "batch_size = 32\n",
    "correct = 0\n",
    "lr = 0.001\n",
    "\n",
    "for batch_idx in range(0, samples.shape[0], batch_size):\n",
    "    start_idx = batch_idx\n",
    "    end_idx = start_idx + batch_size if start_idx + batch_size < samples.shape[0] else samples.shape[0]\n",
    "    batch_samples = samples[start_idx : end_idx]\n",
    "    batch_targets = get_one_hot(targets[start_idx : end_idx].astype(int), 10)\n",
    "    \n",
    "    # Forward Pass\n",
    "    layer1_a = layer1_weights @ np.concatenate((np.ones((batch_samples.shape[0], 1)), batch_samples), axis=1).T\n",
    "    layer1_z = softmax(layer1_a)\n",
    "    \n",
    "    loss = cross_entropy_loss(layer1_z.T, batch_targets)\n",
    "    \n",
    "    loss = np.sum(np.mean(loss, axis=0))\n",
    "    losses.append(loss)\n",
    "    \n",
    "    correct += np.sum(np.argmax(layer1_z, axis=0) == targets[start_idx : end_idx].astype(int))\n",
    "\n",
    "    # Backward Pass\n",
    "    d_loss = cross_entropy_grad(layer1_z.T, batch_targets)\n",
    "    # d_layer1_z = softmax_grad(layer1_z.T, d_loss) # Not necessary! `cross_entropy_grad` includes the softmax derivative.\n",
    "    d_layer1_weights = d_loss.T @ np.concatenate((np.ones((batch_samples.shape[0], 1)), batch_samples), axis=1)\n",
    "    \n",
    "    # Gradient step\n",
    "    layer1_weights = layer1_weights + lr * d_layer1_weights"
   ]
  },
  {
   "cell_type": "code",
   "execution_count": 67,
   "id": "a12dde81-523d-4cfa-ad14-05dcb55a5747",
   "metadata": {},
   "outputs": [
    {
     "name": "stdout",
     "output_type": "stream",
     "text": [
      "0.9145571428571428\n"
     ]
    }
   ],
   "source": [
    "print(correct / samples.shape[0])"
   ]
  },
  {
   "cell_type": "code",
   "execution_count": 68,
   "id": "dd0b0850-be08-43d8-a78a-40fc4a18bdf3",
   "metadata": {},
   "outputs": [
    {
     "data": {
      "text/plain": [
       "[<matplotlib.lines.Line2D at 0x7fcaf691a890>]"
      ]
     },
     "execution_count": 68,
     "metadata": {},
     "output_type": "execute_result"
    },
    {
     "data": {
      "image/png": "[encoded data removed]",
      "text/plain": [
       "<Figure size 432x288 with 1 Axes>"
      ]
     },
     "metadata": {
      "needs_background": "light"
     },
     "output_type": "display_data"
    }
   ],
   "source": [
    "fig = plt.figure()\n",
    "ax = fig.add_subplot()\n",
    "ax.plot(losses)"
   ]
  }
 ],
 "metadata": {
  "kernelspec": {
   "display_name": "Python [conda env:cse6363] *",
   "language": "python",
   "name": "conda-env-cse6363-py"
  },
  "language_info": {
   "codemirror_mode": {
    "name": "ipython",
    "version": 3
   },
   "file_extension": ".py",
   "mimetype": "text/x-python",
   "name": "python",
   "nbconvert_exporter": "python",
   "pygments_lexer": "ipython3",
   "version": "3.7.12"
  }
 },
 "nbformat": 4,
 "nbformat_minor": 5
}
