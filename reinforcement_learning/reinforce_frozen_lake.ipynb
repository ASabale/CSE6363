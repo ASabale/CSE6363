{
 "cells": [
  {
   "cell_type": "markdown",
   "metadata": {},
   "source": [
    "# REINFORCE\n",
    "\n",
    "This notebook implements and demonstrates the REINFORCE algorithm for the Frozen Lake environment. We will also compare it with REINFORCE with baseline.\n",
    "\n",
    "REINFORCE is an on-policy algorithm for learning a policy $\\pi_\\theta$ to maximize the expected return $J(\\theta)$:\n",
    "\n",
    "$$J(\\theta) = \\mathbb{E}_{\\tau \\sim \\pi_\\theta} \\left[ \\sum_{t=0}^T \\gamma^t r(s_t, a_t) \\right]$$\n",
    "\n",
    "where $\\tau = (s_0, a_0, s_1, a_1, \\ldots)$ is a trajectory, $r(s_t, a_t)$ is the reward at time $t$, and $\\gamma$ is the discount factor.\n"
   ]
  }
 ],
 "metadata": {
  "kernelspec": {
   "display_name": "cse6363",
   "language": "python",
   "name": "python3"
  },
  "language_info": {
   "codemirror_mode": {
    "name": "ipython",
    "version": 3
   },
   "file_extension": ".py",
   "mimetype": "text/x-python",
   "name": "python",
   "nbconvert_exporter": "python",
   "pygments_lexer": "ipython3",
   "version": "3.10.9"
  },
  "orig_nbformat": 4
 },
 "nbformat": 4,
 "nbformat_minor": 2
}
