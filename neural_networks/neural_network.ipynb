{
 "cells": [
  {
   "cell_type": "markdown",
   "id": "24a3e817-c112-4d12-8426-49647f96a62f",
   "metadata": {},
   "source": [
    "# Neural Networks\n",
    "\n",
    "This notebook implements a simple neural network for multi-class classification."
   ]
  },
  {
   "cell_type": "code",
   "execution_count": 1,
   "id": "41ab5b50-0cf9-48d6-bd47-ef0a74d98e91",
   "metadata": {},
   "outputs": [],
   "source": [
    "import numpy as np\n",
    "import matplotlib.pyplot as plt\n",
    "from numpy.random import MT19937\n",
    "from numpy.random import RandomState, SeedSequence\n",
    "from sklearn.datasets import fetch_openml"
   ]
  },
  {
   "cell_type": "code",
   "execution_count": 2,
   "id": "f0234cf0-97f5-4ff3-8194-ed5673c35e39",
   "metadata": {},
   "outputs": [],
   "source": [
    "data, targets = fetch_openml(\"mnist_784\", version=1, return_X_y=True, as_frame=False)"
   ]
  },
  {
   "cell_type": "markdown",
   "id": "aaae3869",
   "metadata": {},
   "source": [
    "# Normalization vs. Standardization\n",
    "\n",
    "Scaling features in general is useful for many machine learning algorithms since most of them are not scale-invariant.\n",
    "\n",
    "Normalization bounds the features to a fixed interval. This is typically done to scale features to $[0, 1]$.\n",
    "Standardization centers the features with mean 0 and standard deviation 1. This results in features that have the same parameters as a standard normal distribution.\n",
    "\n",
    "Standardization is well suited for optimization algorithms such as gradient descent where the weights are typically randomly generated with small values centered around 0. Additionally, outliers are well preserved with standardization as opposed to normalization."
   ]
  },
  {
   "cell_type": "code",
   "execution_count": 3,
   "id": "bfa21950-83c7-46e5-a16b-a2fc7fa0df6d",
   "metadata": {},
   "outputs": [],
   "source": [
    "# Split the data\n",
    "X_train = data[:60000]\n",
    "y_train = targets[:60000]\n",
    "X_test = data[60000:]\n",
    "y_test = targets[60000:]\n",
    "\n",
    "# Normalization\n",
    "X_train = X_train / 255.\n",
    "X_test = X_test / 255.\n",
    "\n",
    "# Standardization\n",
    "# X_train = (X_train - X_train.mean()) / X_train.std()\n",
    "# X_test = (X_test - X_test.mean()) / X_test.std() # Is this correct?"
   ]
  },
  {
   "cell_type": "code",
   "execution_count": 4,
   "id": "b6634f8c-d26f-49a9-a8c1-bec5c09f7987",
   "metadata": {},
   "outputs": [],
   "source": [
    "def get_one_hot(targets, nb_classes):\n",
    "    res = np.eye(nb_classes)[np.array(targets).reshape(-1)]\n",
    "    return res.reshape(list(targets.shape)+[nb_classes])\n",
    "\n",
    "\n",
    "def sigmoid(x):\n",
    "    return 1. / (1. + np.exp(-x))\n",
    "\n",
    "\n",
    "def sigmoid_grad(out, grad_in):\n",
    "    return out * (1 - out) * grad_in\n",
    "\n",
    "\n",
    "def softmax(x):\n",
    "    num = np.exp(x - np.max(x))\n",
    "    \n",
    "    return num / np.sum(num, axis=0, keepdims=True)\n",
    "\n",
    "\n",
    "def mse(x, y):\n",
    "    return np.mean((x - y)**2)\n",
    "\n",
    "\n",
    "def mse_grade(x, y):\n",
    "    return x - y\n",
    "\n",
    "\n",
    "# def softmax_grad(out, grad_in):\n",
    "#       return (np.einsum('ij,jk->ijk', out, np.eye(out.shape[-1])) \\\n",
    "#            - np.einsum('ij,ik->ijk', out, out))\n",
    "    \n",
    "    \n",
    "def softmax_grad(probs, bp_err):\n",
    "    dim = probs.shape[1]\n",
    "    output = np.empty(probs.shape)\n",
    "    for j in range(dim):\n",
    "        d_prob_over_xj = - (probs * probs[:,[j]])  # i.e. prob_k * prob_j, no matter k==j or not\n",
    "        d_prob_over_xj[:,j] += probs[:,j]   # i.e. when k==j, +prob_j\n",
    "        output[:,j] = np.sum(bp_err * d_prob_over_xj, axis=1)\n",
    "    return output\n",
    "\n",
    "\n",
    "def cross_entropy_loss(pred, target):\n",
    "    return -target * np.log(pred)\n",
    "\n",
    "\n",
    "def cross_entropy_grad(pred, target):\n",
    "    return target - pred"
   ]
  },
  {
   "cell_type": "code",
   "execution_count": 5,
   "id": "2601a58a-b102-45d6-a4c8-71bb2769455d",
   "metadata": {},
   "outputs": [
    {
     "ename": "NameError",
     "evalue": "name 'samples' is not defined",
     "output_type": "error",
     "traceback": [
      "\u001b[0;31m---------------------------------------------------------------------------\u001b[0m",
      "\u001b[0;31mNameError\u001b[0m                                 Traceback (most recent call last)",
      "\u001b[1;32m/home/alex/dev/teaching/CSE6363/neural_networks/neural_network.ipynb Cell 7\u001b[0m in \u001b[0;36m<cell line: 1>\u001b[0;34m()\u001b[0m\n\u001b[0;32m----> <a href='vscode-notebook-cell:/home/alex/dev/teaching/CSE6363/neural_networks/neural_network.ipynb#W6sZmlsZQ%3D%3D?line=0'>1</a>\u001b[0m num_features \u001b[39m=\u001b[39m samples\u001b[39m.\u001b[39mshape[\u001b[39m1\u001b[39m]\n\u001b[1;32m      <a href='vscode-notebook-cell:/home/alex/dev/teaching/CSE6363/neural_networks/neural_network.ipynb#W6sZmlsZQ%3D%3D?line=1'>2</a>\u001b[0m num_classes \u001b[39m=\u001b[39m \u001b[39m10\u001b[39m\n\u001b[1;32m      <a href='vscode-notebook-cell:/home/alex/dev/teaching/CSE6363/neural_networks/neural_network.ipynb#W6sZmlsZQ%3D%3D?line=3'>4</a>\u001b[0m \u001b[39m# Output layer configuration\u001b[39;00m\n",
      "\u001b[0;31mNameError\u001b[0m: name 'samples' is not defined"
     ]
    }
   ],
   "source": [
    "num_features = samples.shape[1]\n",
    "num_classes = 10\n",
    "\n",
    "# Output layer configuration\n",
    "rs = RandomState(MT19937(SeedSequence(42))) # for consistency\n",
    "layer1_weights = (rs.rand(num_classes, num_features + 1) - 0.5)"
   ]
  },
  {
   "cell_type": "markdown",
   "id": "a3398543-370e-4054-8c3a-b05b09ee7d04",
   "metadata": {},
   "source": [
    "# Forward Pass"
   ]
  },
  {
   "cell_type": "code",
   "execution_count": null,
   "id": "b49f7467-41f0-4ba7-9892-4d43b43c87f7",
   "metadata": {},
   "outputs": [],
   "source": [
    "layer1_a = layer1_weights @ np.concatenate((np.ones((samples.shape[0], 1)), samples), axis=1).T\n",
    "layer1_z = softmax(layer1_a)\n",
    "loss = cross_entropy_loss(layer1_z.T, get_one_hot(targets.astype(int), 10))\n",
    "print(np.sum(np.mean(loss, axis=0)))"
   ]
  },
  {
   "cell_type": "markdown",
   "id": "e99c7691-c7dc-4532-afbc-994360018520",
   "metadata": {},
   "source": [
    "# Backward Pass"
   ]
  },
  {
   "cell_type": "code",
   "execution_count": null,
   "id": "4c42955a-86b8-43f5-a0e9-0aba47f75679",
   "metadata": {},
   "outputs": [],
   "source": [
    "d_loss = cross_entropy_grad(layer1_z.T, get_one_hot(targets.astype(int), 10))\n",
    "d_layer1_z = softmax_grad(layer1_z.T, d_loss)\n",
    "d_layer1_weights = d_layer1_z.T @ np.concatenate((np.ones((samples.shape[0], 1)), samples), axis=1)"
   ]
  },
  {
   "cell_type": "markdown",
   "id": "775f963f",
   "metadata": {},
   "source": [
    "# Batch Training\n",
    "\n",
    "The cell below performs batch training over an entire epoch of 60k samples."
   ]
  },
  {
   "cell_type": "code",
   "execution_count": null,
   "id": "95138b10-ffa3-488c-b7f2-cc3e038252fa",
   "metadata": {},
   "outputs": [],
   "source": [
    "def train(X, y):\n",
    "    # Initialize weights\n",
    "    rs = RandomState(MT19937(SeedSequence(42))) # for consistency\n",
    "    layer1_weights = (rs.rand(num_classes, num_features + 1) - 0.5)\n",
    "\n",
    "    losses = []\n",
    "    batch_size = 32\n",
    "    correct = 0\n",
    "    lr = 0.001\n",
    "\n",
    "    for batch_idx in range(0, X.shape[0], batch_size):\n",
    "        start_idx = batch_idx\n",
    "        end_idx = start_idx + batch_size if start_idx + batch_size < X.shape[0] else X.shape[0]\n",
    "        batch_samples = X[start_idx : end_idx]\n",
    "        batch_targets = get_one_hot(y[start_idx : end_idx].astype(int), 10)\n",
    "\n",
    "        # Forward Pass\n",
    "        layer1_a = layer1_weights @ np.concatenate((np.ones((batch_samples.shape[0], 1)), batch_samples), axis=1).T\n",
    "        layer1_z = softmax(layer1_a)\n",
    "\n",
    "        loss = cross_entropy_loss(layer1_z.T, batch_targets)\n",
    "\n",
    "        loss = np.sum(np.mean(loss, axis=0))\n",
    "        losses.append(loss)\n",
    "\n",
    "        # Update the number of correct training predictions\n",
    "        correct += np.sum(np.argmax(layer1_z, axis=0) == y[start_idx : end_idx].astype(int))\n",
    "\n",
    "        # Backward Pass\n",
    "        d_loss = cross_entropy_grad(layer1_z.T, batch_targets)\n",
    "        # d_layer1_z = softmax_grad(layer1_z.T, d_loss) # Not necessary! `cross_entropy_grad` includes the softmax derivative.\n",
    "        d_layer1_weights = d_loss.T @ np.concatenate((np.ones((batch_samples.shape[0], 1)), batch_samples), axis=1)\n",
    "\n",
    "        # Gradient step\n",
    "        layer1_weights = layer1_weights + lr * d_layer1_weights\n",
    "\n",
    "    return correct, losses, layer1_weights\n",
    "\n",
    "def test(X, y, weights):\n",
    "    # Initialize weights\n",
    "    rs = RandomState(MT19937(SeedSequence(42))) # for consistency\n",
    "    layer1_weights = (rs.rand(num_classes, num_features + 1) - 0.5)\n",
    "\n",
    "    batch_size = 32\n",
    "    correct = 0\n",
    "\n",
    "    for batch_idx in range(0, X.shape[0], batch_size):\n",
    "        start_idx = batch_idx\n",
    "        end_idx = start_idx + batch_size if start_idx + batch_size < X.shape[0] else X.shape[0]\n",
    "        batch_samples = X[start_idx : end_idx]\n",
    "        batch_targets = get_one_hot(y[start_idx : end_idx].astype(int), 10)\n",
    "\n",
    "        # Forward Pass\n",
    "        layer1_a = weights @ np.concatenate((np.ones((batch_samples.shape[0], 1)), batch_samples), axis=1).T\n",
    "        layer1_z = softmax(layer1_a)\n",
    "\n",
    "        # Update the number of correct training predictions\n",
    "        correct += np.sum(np.argmax(layer1_z, axis=0) == y[start_idx : end_idx].astype(int))\n",
    "\n",
    "    return correct\n",
    "\n",
    "train_correct, losses, weights = train(X_train, y_train)\n",
    "test_correct = test(X_test, y_test, weights)\n",
    "\n",
    "print(f'Training Accuracy: {train_correct / X_train.shape[0] * 100:.2f}%')\n",
    "print(f'Testing Accuracy: {test_correct / X_test.shape[0] * 100:.2f}%')\n",
    "\n",
    "# Plot loss curve\n",
    "fig = plt.figure()\n",
    "ax = fig.add_subplot()\n",
    "ax.plot(losses)"
   ]
  }
 ],
 "metadata": {
  "kernelspec": {
   "display_name": "Python 3.10.4 ('cse6363')",
   "language": "python",
   "name": "python3"
  },
  "language_info": {
   "codemirror_mode": {
    "name": "ipython",
    "version": 3
   },
   "file_extension": ".py",
   "mimetype": "text/x-python",
   "name": "python",
   "nbconvert_exporter": "python",
   "pygments_lexer": "ipython3",
   "version": "3.10.6"
  },
  "vscode": {
   "interpreter": {
    "hash": "53ef4221aa1ddcebf8ffe152ce07046cd10cba6b415b9c2173d01d52e94eb207"
   }
  }
 },
 "nbformat": 4,
 "nbformat_minor": 5
}
