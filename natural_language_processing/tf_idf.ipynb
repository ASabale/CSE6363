{
 "cells": [
  {
   "cell_type": "markdown",
   "metadata": {},
   "source": [
    "# Term Frequency-Inverse Document Frequency\n",
    "\n",
    "TF-IDF is a statistical measure to evaluate how important a word is to a document in a collection. The importance of a word increases proportionally to the number of times it appears in the document. However, the frequency of a word in the collection also plays an important role in determining the importance of the word. If a word appears frequently in a document, it should be important. But if a word appears in many documents, it is not a unique identifier. In this case, the word should be less important.\n",
    "\n",
    "TF-IDF is the product of two statistics, term frequency and inverse document frequency.\n",
    "\n",
    "$$\n",
    "\\begin{aligned}\n",
    "\\text{tf-idf}(t, d, D) &= \\text{tf}(t, d) \\times \\text{idf}(t, D) \\\\\n",
    "&= \\text{tf}(t, d) \\times \\log \\frac{|D|}{|\\{d \\in D: t \\in d\\}|}\n",
    "\\end{aligned}\n",
    "$$\n",
    "\n",
    "where $t$ is a term, $d$ is a document, $D$ is a collection of documents, $\\text{tf}(t, d)$ is the number of times term $t$ appears in document $d$, and $\\text{idf}(t, D)$ is the number of documents in $D$ divided by the number of documents where $t$ appears.\n",
    "\n",
    "This notebook demonstrates how to compute TF-IDF using `sklearn.feature_extraction.text.TfidfVectorizer`."
   ]
  },
  {
   "cell_type": "code",
   "execution_count": 9,
   "metadata": {},
   "outputs": [
    {
     "name": "stdout",
     "output_type": "stream",
     "text": [
      "['and' 'document' 'first' 'is' 'one' 'second' 'the' 'third' 'this']\n",
      "[[0.         0.46979139 0.58028582 0.38408524 0.         0.\n",
      "  0.38408524 0.         0.38408524]\n",
      " [0.         0.6876236  0.         0.28108867 0.         0.53864762\n",
      "  0.28108867 0.         0.28108867]\n",
      " [0.51184851 0.         0.         0.26710379 0.51184851 0.\n",
      "  0.26710379 0.51184851 0.26710379]\n",
      " [0.         0.46979139 0.58028582 0.38408524 0.         0.\n",
      "  0.38408524 0.         0.38408524]]\n"
     ]
    }
   ],
   "source": [
    "from sklearn.feature_extraction.text import TfidfVectorizer\n",
    "\n",
    "\n",
    "# Create a simple corpus of documents\n",
    "corpus = [\n",
    "    'This is the first document.',\n",
    "    'This document is the second document.',\n",
    "    'And this is the third one.',\n",
    "    'Is this the first document?',\n",
    "]\n",
    "\n",
    "vectorizer = TfidfVectorizer()\n",
    "\n",
    "# Learn the vocabulary dictionary and return term-document matrix.\n",
    "X = vectorizer.fit_transform(corpus)\n",
    "\n",
    "# Get the feature names\n",
    "feature_names = vectorizer.get_feature_names_out()\n",
    "\n",
    "print(feature_names)\n",
    "print(X.toarray())"
   ]
  },
  {
   "cell_type": "markdown",
   "metadata": {},
   "source": [
    "As seen above, the TF-IDF vectorizer first trains a vocabulary from the collection of documents. Then it computes the TF-IDF score for each document.\n",
    "\n",
    "Transforming a document produces a term-document matrix, where each row represents a document, and each column represents a term. The value of each cell is the TF-IDF score."
   ]
  }
 ],
 "metadata": {
  "kernelspec": {
   "display_name": "cse6363",
   "language": "python",
   "name": "python3"
  },
  "language_info": {
   "codemirror_mode": {
    "name": "ipython",
    "version": 3
   },
   "file_extension": ".py",
   "mimetype": "text/x-python",
   "name": "python",
   "nbconvert_exporter": "python",
   "pygments_lexer": "ipython3",
   "version": "3.11.5"
  }
 },
 "nbformat": 4,
 "nbformat_minor": 2
}
