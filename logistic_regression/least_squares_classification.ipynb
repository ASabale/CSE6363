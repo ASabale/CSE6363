{
 "cells": [
  {
   "cell_type": "markdown",
   "id": "bda774fd-eb24-4e0b-9ef1-48776d8695e9",
   "metadata": {},
   "source": [
    "# Classification with Least Squares\n",
    "\n",
    "This notebook demonstrates how to implement a binary classifier and solve for the parameters using a least-squares approach."
   ]
  },
  {
   "cell_type": "code",
   "execution_count": 80,
   "id": "a34ca19f-a43f-47c8-81f7-3e0e51bf2dd3",
   "metadata": {},
   "outputs": [],
   "source": [
    "import numpy as np\n",
    "import matplotlib.pyplot as plt\n",
    "from matplotlib.colors import ListedColormap\n",
    "from mlxtend.plotting.decision_regions import plot_decision_regions\n",
    "from sklearn.datasets import make_classification\n",
    "\n",
    "%matplotlib widget"
   ]
  },
  {
   "cell_type": "code",
   "execution_count": 104,
   "id": "6ec92d49-375a-425b-a04d-db5a071ac3ba",
   "metadata": {},
   "outputs": [],
   "source": [
    "def get_one_hot(targets, nb_classes):\n",
    "    res = np.eye(nb_classes)[np.array(targets).reshape(-1)]\n",
    "    return res.reshape(list(targets.shape)+[nb_classes])\n",
    "\n",
    "\n",
    "class LinearDiscriminant:        \n",
    "    def fit(self, data, targets):\n",
    "        num_classes = np.max(targets, axis=0) + 1\n",
    "        data = np.concatenate((np.ones((data.shape[0], 1)), data), axis=-1)\n",
    "        targets = get_one_hot(targets, num_classes)\n",
    "        self.weights_ = np.linalg.inv(data.T @ data) @ data.T @ targets\n",
    "        \n",
    "    def predict(self, x):\n",
    "        \"\"\"Classify input sample(s)\n",
    "        \n",
    "        Parameters\n",
    "        ----------\n",
    "        x : array-like, [n_samples, n_features]\n",
    "            Samples\n",
    "        \n",
    "        Returns\n",
    "        -------\n",
    "        result : array-like, int, [n_samples]\n",
    "            Corresponding prediction(s)\n",
    "        \"\"\"\n",
    "        # Add constant for bias parameter\n",
    "        x = np.concatenate((np.ones((x.shape[0], 1)), x), axis=-1)\n",
    "            \n",
    "        return np.argmax(self.weights_.T @ x.T, axis=0)"
   ]
  },
  {
   "cell_type": "code",
   "execution_count": 106,
   "id": "ab6bcfa7-643d-4f2b-a9a3-f700afd699bc",
   "metadata": {},
   "outputs": [
    {
     "data": {
      "application/vnd.jupyter.widget-view+json": {
       "model_id": "2739e88e280e448fbcd8b8e3a1ee01f8",
       "version_major": 2,
       "version_minor": 0
      },
      "text/plain": [
       "Canvas(toolbar=Toolbar(toolitems=[('Home', 'Reset original view', 'home', 'home'), ('Back', 'Back to previous …"
      ]
     },
     "metadata": {},
     "output_type": "display_data"
    },
    {
     "data": {
      "text/plain": [
       "<matplotlib.collections.PathCollection at 0x7f429ce7b750>"
      ]
     },
     "execution_count": 106,
     "metadata": {},
     "output_type": "execute_result"
    }
   ],
   "source": [
    "# Generate some data\n",
    "n_classes = 3\n",
    "X, Y = make_classification(200, 2, n_redundant=0, n_classes=n_classes, n_clusters_per_class=1)\n",
    "\n",
    "fig = plt.figure()\n",
    "ax = fig.add_subplot(111)\n",
    "ax.scatter(X[:, 0], X[:, 1], c=Y)"
   ]
  },
  {
   "cell_type": "code",
   "execution_count": 107,
   "id": "5bda7878-e872-4306-90f7-09cab069eeed",
   "metadata": {},
   "outputs": [
    {
     "name": "stdout",
     "output_type": "stream",
     "text": [
      "Error = 29.00%\n"
     ]
    },
    {
     "data": {
      "application/vnd.jupyter.widget-view+json": {
       "model_id": "1ab212f50db143d982669387a5b777aa",
       "version_major": 2,
       "version_minor": 0
      },
      "text/plain": [
       "Canvas(toolbar=Toolbar(toolitems=[('Home', 'Reset original view', 'home', 'home'), ('Back', 'Back to previous …"
      ]
     },
     "metadata": {},
     "output_type": "display_data"
    },
    {
     "data": {
      "text/plain": [
       "<AxesSubplot:>"
      ]
     },
     "execution_count": 107,
     "metadata": {},
     "output_type": "execute_result"
    }
   ],
   "source": [
    "classifier = LinearDiscriminant()\n",
    "classifier.fit(X, Y)\n",
    "\n",
    "# Measure number of misclassifications\n",
    "error = np.sum(np.abs(classifier.predict(X) - Y))\n",
    "print(f\"Error = {(error / 200) * 100:1.2f}%\")\n",
    "\n",
    "fig = plt.figure()\n",
    "ax = plot_decision_regions(X, Y, classifier)\n",
    "fig.add_subplot(ax)"
   ]
  }
 ],
 "metadata": {
  "kernelspec": {
   "display_name": "Python [conda env:cse6363] *",
   "language": "python",
   "name": "conda-env-cse6363-py"
  },
  "language_info": {
   "codemirror_mode": {
    "name": "ipython",
    "version": 3
   },
   "file_extension": ".py",
   "mimetype": "text/x-python",
   "name": "python",
   "nbconvert_exporter": "python",
   "pygments_lexer": "ipython3",
   "version": "3.7.12"
  }
 },
 "nbformat": 4,
 "nbformat_minor": 5
}
