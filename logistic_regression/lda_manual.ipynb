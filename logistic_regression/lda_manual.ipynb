{
 "cells": [
  {
   "cell_type": "code",
   "execution_count": null,
   "metadata": {},
   "outputs": [],
   "source": [
    "import numpy as np\n",
    "\n",
    "class LinearDiscriminantAnalysis():\n",
    "    def __init__(self):\n",
    "        self.priors_ = None\n",
    "\n",
    "    def _class_means(X, y):\n",
    "        means = []\n",
    "        for c in np.unique(y):\n",
    "            means.append(np.mean(X[y == c], axis=0))\n",
    "        return np.array(means)\n",
    "\n",
    "    def _class_cov(X, y, self.priors_):\n",
    "        cov = np.zeros((X.shape[1], X.shape[1]))\n",
    "        for c in np.unique(y):\n",
    "            diff = X[y == c] - self.means_[c]\n",
    "            cov += self.priors_[c] * np.dot(diff.T, diff)\n",
    "        return cov\n",
    "\n",
    "    def fit(self, X, y):\n",
    "        self.means_ = self._class_means(X, y)\n",
    "        self.priors_ = np.bincount(y) / len(y)\n",
    "        self.covariance_ = self._class_cov(X, y, self.priors_)\n",
    "        self.coef_ = np.linalg.solve(self.covariance_, self.means_.T).T\n",
    "        self.intercept_ = -0.5 * np.diag(np.dot(self.means_, self.coef_.T)) + np.log(self.priors_)\n",
    "\n",
    "        # Alternative way to compute the weights and bias\n",
    "        # self.coef_ = np.dot(self.means_, np.linalg.inv(self.covariance_))\n",
    "        # self.intercept_ = -0.5 * np.diag(np.dot(np.dot(self.means_, np.linalg.inv(self.covariance_)), self.means_.T)) + np.log(self.priors_)\n",
    "        return self"
   ]
  }
 ],
 "metadata": {
  "kernelspec": {
   "display_name": "cse6363",
   "language": "python",
   "name": "python3"
  },
  "language_info": {
   "codemirror_mode": {
    "name": "ipython",
    "version": 3
   },
   "file_extension": ".py",
   "mimetype": "text/x-python",
   "name": "python",
   "nbconvert_exporter": "python",
   "pygments_lexer": "ipython3",
   "version": "3.11.3"
  },
  "orig_nbformat": 4
 },
 "nbformat": 4,
 "nbformat_minor": 2
}
