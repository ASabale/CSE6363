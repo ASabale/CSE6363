{
 "cells": [
  {
   "cell_type": "code",
   "execution_count": null,
   "id": "67934cb2-e663-4fd0-bfc8-f252165ec0f3",
   "metadata": {},
   "outputs": [],
   "source": [
    "from sklearn.datasets import load_iris\n",
    "from sklearn.model_selection import cross_val_score, train_test_split\n",
    "from sklearn.tree import DecisionTreeClassifier\n",
    "from dtreeviz.trees import dtreeviz\n",
    "\n",
    "%matplotlib inline"
   ]
  },
  {
   "cell_type": "code",
   "execution_count": null,
   "id": "b2d54d7e-57ea-4f4c-8b12-cba169b97724",
   "metadata": {},
   "outputs": [],
   "source": [
    "iris = load_iris()\n",
    "x_train, x_test, y_train, y_test = train_test_split(iris.data, iris.target, test_size=0.10, random_state=42) "
   ]
  },
  {
   "cell_type": "code",
   "execution_count": null,
   "id": "0e6cf04b-51c2-4bdf-87f7-8c5995a8c252",
   "metadata": {},
   "outputs": [],
   "source": [
    "model = DecisionTreeClassifier(max_depth=3, min_samples_leaf=10)\n",
    "# model = DecisionTreeClassifier()\n",
    "model.fit(x_train, y_train)"
   ]
  },
  {
   "cell_type": "code",
   "execution_count": null,
   "id": "03a30cb1-b1eb-4e30-a0ae-97314f087cfd",
   "metadata": {},
   "outputs": [],
   "source": [
    "model.score(x_train, y_train)\n",
    "model.score(x_test, y_test)\n",
    "# model.decision_path(x_test)"
   ]
  },
  {
   "cell_type": "code",
   "execution_count": null,
   "id": "c5ca1488-943e-463d-af8a-d848489cfe72",
   "metadata": {},
   "outputs": [],
   "source": [
    "tree_vis = dtreeviz(model, x_train, y_train, target_name=\"target\", feature_names=iris.feature_names, class_names=list(iris.target_names))"
   ]
  },
  {
   "cell_type": "code",
   "execution_count": null,
   "id": "39a40985-2eb3-4908-a2d3-a64692ad1e4b",
   "metadata": {},
   "outputs": [],
   "source": [
    "tree_vis"
   ]
  },
  {
   "cell_type": "code",
   "execution_count": null,
   "id": "337a5a78-7037-4061-bbd1-f1d522b353ac",
   "metadata": {},
   "outputs": [],
   "source": [
    "print(iris.feature_names, x_test[0])"
   ]
  }
 ],
 "metadata": {
  "kernelspec": {
   "display_name": "Python 3.10.4 ('cse6363')",
   "language": "python",
   "name": "python3"
  },
  "language_info": {
   "codemirror_mode": {
    "name": "ipython",
    "version": 3
   },
   "file_extension": ".py",
   "mimetype": "text/x-python",
   "name": "python",
   "nbconvert_exporter": "python",
   "pygments_lexer": "ipython3",
   "version": "3.10.4"
  },
  "vscode": {
   "interpreter": {
    "hash": "53ef4221aa1ddcebf8ffe152ce07046cd10cba6b415b9c2173d01d52e94eb207"
   }
  }
 },
 "nbformat": 4,
 "nbformat_minor": 5
}
