{
 "cells": [
  {
   "cell_type": "markdown",
   "id": "a27a46f0-0b70-492c-9c62-dbf93b9a28f5",
   "metadata": {},
   "source": [
    "# Constrainted Optimization and Langrangian Multipliers\n",
    "\n",
    "This notebook accompanies a lecture on langrangian multipliers for constrained optimization and KKT conditions."
   ]
  },
  {
   "cell_type": "code",
   "execution_count": 1,
   "id": "54fc476f-0df4-4588-9786-807fa11bf231",
   "metadata": {},
   "outputs": [],
   "source": [
    "import numpy as np\n",
    "import matplotlib.pyplot as plt\n",
    "from matplotlib import cm\n",
    "\n",
    "%matplotlib widget"
   ]
  },
  {
   "cell_type": "markdown",
   "id": "e1a674f8-43a1-4d66-abac-01f2c0a32392",
   "metadata": {},
   "source": [
    "Consider an optimization problem\n",
    "\n",
    "\\begin{aligned}\n",
    "\\min_{x, y} \\quad & 1 - x^2 - y^2\\\\\n",
    "\\textrm{s.t.} \\quad & x + y - 1\n",
    "\\end{aligned}\n",
    "\n",
    "This is a constrained optimization problem with a single **equality** constraint.\n",
    "The function and its constraint surface are plotted below."
   ]
  },
  {
   "cell_type": "code",
   "execution_count": 29,
   "id": "7df993a3-0370-4a12-9dd4-ba5503f2b78c",
   "metadata": {},
   "outputs": [
    {
     "data": {
      "application/vnd.jupyter.widget-view+json": {
       "model_id": "ae37778262e84ce7a194188ffd503059",
       "version_major": 2,
       "version_minor": 0
      },
      "text/plain": [
       "Canvas(toolbar=Toolbar(toolitems=[('Home', 'Reset original view', 'home', 'home'), ('Back', 'Back to previous …"
      ]
     },
     "metadata": {},
     "output_type": "display_data"
    },
    {
     "data": {
      "text/plain": [
       "<matplotlib.legend.Legend at 0x7f09b46ca350>"
      ]
     },
     "execution_count": 29,
     "metadata": {},
     "output_type": "execute_result"
    }
   ],
   "source": [
    "fig = plt.figure()\n",
    "\n",
    "# Plot the original function\n",
    "ax = fig.add_subplot(111, projection='3d')\n",
    "X = np.arange(-3, 3, 0.25)\n",
    "Y = np.arange(-3, 3, 0.25)\n",
    "X, Y = np.meshgrid(X, Y)\n",
    "Z = 1 - X**2 - Y**2\n",
    "\n",
    "surf = ax.plot_surface(X, Y, Z, rstride=1, cstride=1,\n",
    "                       cmap=cm.coolwarm,\n",
    "                       linewidth=0,\n",
    "                      label='1 - x^2 - y^2')\n",
    "surf._edgecolors2d = surf._edgecolor3d\n",
    "surf._facecolors2d = surf._facecolor3d\n",
    "ax.set_zlim(1.01, -16.01)\n",
    "\n",
    "# Plot the constraint\n",
    "X_c = np.arange(-3, 3, 0.25)\n",
    "Y_c = np.arange(-3, 3, 0.25)\n",
    "X_c, Y_c = np.meshgrid(X_c, Y_c)\n",
    "G = X + Y - 1\n",
    "\n",
    "surf = ax.plot_surface(X_c, Y_c, G, label='x + y - 1')\n",
    "surf._edgecolors2d = surf._edgecolor3d\n",
    "surf._facecolors2d = surf._facecolor3d\n",
    "ax.legend()"
   ]
  },
  {
   "cell_type": "code",
   "execution_count": 30,
   "id": "3ba3ff38-de84-4884-b34d-0fe0ee50e3f0",
   "metadata": {},
   "outputs": [
    {
     "data": {
      "application/vnd.jupyter.widget-view+json": {
       "model_id": "b6924952cce54caeacd3eae331917c43",
       "version_major": 2,
       "version_minor": 0
      },
      "text/plain": [
       "Canvas(toolbar=Toolbar(toolitems=[('Home', 'Reset original view', 'home', 'home'), ('Back', 'Back to previous …"
      ]
     },
     "metadata": {},
     "output_type": "display_data"
    },
    {
     "data": {
      "text/plain": [
       "<matplotlib.contour.QuadContourSet at 0x7f09b460d610>"
      ]
     },
     "execution_count": 30,
     "metadata": {},
     "output_type": "execute_result"
    }
   ],
   "source": [
    "# Plot the contour\n",
    "X, Y = np.meshgrid(np.linspace(-3, 3, 256), np.linspace(-3, 3, 256))\n",
    "Z = 1 - X**2 - Y**2\n",
    "levels = np.linspace(-1, 1, 5)\n",
    "\n",
    "fig, ax = plt.subplots()\n",
    "ax.contour(X, Y, Z, levels=levels)\n",
    "\n",
    "# Plot the constraint contour\n",
    "G = X + Y - 1\n",
    "ax.contour(X, Y, G, levels=levels)"
   ]
  }
 ],
 "metadata": {
  "kernelspec": {
   "display_name": "Python [conda env:cse6363] *",
   "language": "python",
   "name": "conda-env-cse6363-py"
  },
  "language_info": {
   "codemirror_mode": {
    "name": "ipython",
    "version": 3
   },
   "file_extension": ".py",
   "mimetype": "text/x-python",
   "name": "python",
   "nbconvert_exporter": "python",
   "pygments_lexer": "ipython3",
   "version": "3.7.12"
  }
 },
 "nbformat": 4,
 "nbformat_minor": 5
}
