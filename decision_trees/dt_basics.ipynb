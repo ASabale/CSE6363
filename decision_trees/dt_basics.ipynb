{
 "cells": [
  {
   "cell_type": "markdown",
   "metadata": {},
   "source": [
    "# Decision Tree Error Functions\n",
    "\n",
    "This notebook demonstrates three common error functions used for decision trees:\n",
    "1. misclassification rate,\n",
    "2. entropy,\n",
    "3. and Gini index."
   ]
  },
  {
   "cell_type": "code",
   "execution_count": 33,
   "metadata": {},
   "outputs": [],
   "source": [
    "import numpy as np\n",
    "\n",
    "def cprob(data, k):\n",
    "    return np.sum(data == k) / data.shape[0]\n",
    "\n",
    "def misclassification_rate(preds, target):\n",
    "    pi_target = cprob(preds, target)\n",
    "    return 1 - pi_target\n",
    "\n",
    "def entropy(targets, n_classes):\n",
    "    result = 0\n",
    "    for i in range(n_classes):\n",
    "        pi_c = cprob(targets, i)\n",
    "        result -= pi_c * np.log(pi_c)\n",
    "\n",
    "    return result\n",
    "\n",
    "def gini_index(targets, n_classes):\n",
    "    sum = 0\n",
    "    for i in range(n_classes):\n",
    "        pi_c = cprob(targets, i)\n",
    "        sum += pi_c**2\n",
    "\n",
    "    return 1 - sum"
   ]
  },
  {
   "cell_type": "code",
   "execution_count": 34,
   "metadata": {},
   "outputs": [
    {
     "name": "stdout",
     "output_type": "stream",
     "text": [
      "[0 0 1 1 0 0 1 0 1 1]\n",
      "Class Conditional Probability for 1 = 0.5\n",
      "Misclassification Rate for 1 = 0.5\n",
      "Entropy for y = 1.0\n",
      "Gini index = 0.5\n"
     ]
    }
   ],
   "source": [
    "y = np.random.randint(2, size=10)\n",
    "print(y)\n",
    "print(f'Class Conditional Probability for 1 = {cprob(y, 1)}')\n",
    "print(f'Misclassification Rate for 1 = {misclassification_rate(y, 1)}')\n",
    "print(f'Entropy for y = {entropy(y, 2)}')\n",
    "print(f'Gini index = {gini_index(y, 2)}')"
   ]
  }
 ],
 "metadata": {
  "kernelspec": {
   "display_name": "Python 3.7.12 ('cse6363')",
   "language": "python",
   "name": "python3"
  },
  "language_info": {
   "codemirror_mode": {
    "name": "ipython",
    "version": 3
   },
   "file_extension": ".py",
   "mimetype": "text/x-python",
   "name": "python",
   "nbconvert_exporter": "python",
   "pygments_lexer": "ipython3",
   "version": "3.7.12"
  },
  "orig_nbformat": 4,
  "vscode": {
   "interpreter": {
    "hash": "53ef4221aa1ddcebf8ffe152ce07046cd10cba6b415b9c2173d01d52e94eb207"
   }
  }
 },
 "nbformat": 4,
 "nbformat_minor": 2
}
