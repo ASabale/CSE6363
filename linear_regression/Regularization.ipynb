{
 "cells": [
  {
   "cell_type": "code",
   "execution_count": null,
   "id": "a49a7a8a",
   "metadata": {},
   "outputs": [],
   "source": [
    "import math\n",
    "import numpy as np\n",
    "import matplotlib.pyplot as plt\n",
    "\n",
    "def mse(predictions, target):\n",
    "    \"\"\"Compute the Mean Squared Error between two vectors of equal length.\"\"\"\n",
    "    return np.sum((predictions - target)**2) / len(target)"
   ]
  },
  {
   "cell_type": "code",
   "execution_count": null,
   "id": "21977378",
   "metadata": {},
   "outputs": [],
   "source": [
    "# Generate a bias term and slope between -1 and 1\n",
    "b = (np.random.rand() * 2) - 1\n",
    "m = (np.random.rand() * 2) - 1\n",
    "noise_weight = 0.5\n",
    "\n",
    "num_samples = 128\n",
    "x = np.array(list(range(num_samples)), dtype=np.float32)\n",
    "x = x / num_samples * 2 * math.pi\n",
    "\n",
    "# Set aside some samples for validation\n",
    "val_idxs = np.random.choice(num_samples, 28)\n",
    "idxs = np.array(list(range(num_samples)))\n",
    "train_idxs = np.in1d(idxs, val_idxs)\n",
    "train_idxs = ~train_idxs\n",
    "\n",
    "y = m * np.sin(x) + b + (noise_weight * np.random.randn(num_samples))\n",
    "\n",
    "# Split the datasets\n",
    "x_val = x[val_idxs]\n",
    "x = x[train_idxs]\n",
    "num_train = x.shape[0]\n",
    "y_val = y[val_idxs]\n",
    "y = y[train_idxs]\n",
    "num_val = len(val_idxs)\n",
    "\n",
    "fig = plt.figure()\n",
    "ax = fig.add_subplot(111)\n",
    "ax.scatter(x, y)\n",
    "ax.plot(x, m * np.sin(x) + b, c='r')\n",
    "ax.set_title(\"Original Data\");"
   ]
  },
  {
   "cell_type": "code",
   "execution_count": null,
   "id": "f8ca7341",
   "metadata": {},
   "outputs": [],
   "source": [
    "dof = 13\n",
    "regularization = 1\n",
    "data = np.repeat(x[:, None], dof, axis=1)\n",
    "data = np.hstack((np.ones((x.shape[0], 1)), data))\n",
    "for i in range(1, dof):\n",
    "    data[:, i+1] = data[:, 1]**(i+1)\n",
    "\n",
    "w = np.linalg.inv(regularization * np.eye(data.shape[1]) + data.T @ data) @ (data.T @ y)\n",
    "\n",
    "# Recompute the new  y-values for visualization\n",
    "y_hat_train = data @ w\n",
    "error = mse(y_hat_train, y)\n",
    "print(\"Training Error =\", error)\n",
    "\n",
    "# validation\n",
    "data_val = np.repeat(x_val[:, None], dof, axis=1)\n",
    "data_val = np.hstack((np.ones((x_val.shape[0], 1)), data_val))\n",
    "for i in range(1, dof):\n",
    "    data_val[:, i+1] = data_val[:, 1]**(i+1)\n",
    "    \n",
    "# Recompute the new  y-values for visualization\n",
    "y_hat_val = data_val @ w\n",
    "error = mse(y_hat_val, y_val)\n",
    "print(\"Validation Error =\", error)\n",
    "\n",
    "# Show the weights of the model\n",
    "print(\"Mean of absolute value of weights = \", np.abs(w).mean())\n",
    "\n",
    "# Visualize the new solution\n",
    "fig = plt.figure()\n",
    "ax = fig.add_subplot(111)\n",
    "ax.scatter(x_val, y_val)\n",
    "ax.plot(x, y_hat_train, c='b')\n",
    "ax.plot(x, m * np.sin(x) + b, c='r')\n",
    "for i in range(len(val_idxs)):\n",
    "    ax.plot([x_val[i], x_val[i]], [y_val[i], y_hat_val[i]], c='r', linewidth=0.5)"
   ]
  }
 ],
 "metadata": {
  "kernelspec": {
   "display_name": "Python 3 (ipykernel)",
   "language": "python",
   "name": "python3"
  },
  "language_info": {
   "codemirror_mode": {
    "name": "ipython",
    "version": 3
   },
   "file_extension": ".py",
   "mimetype": "text/x-python",
   "name": "python",
   "nbconvert_exporter": "python",
   "pygments_lexer": "ipython3",
   "version": "3.11.5"
  }
 },
 "nbformat": 4,
 "nbformat_minor": 5
}
