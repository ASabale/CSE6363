{
 "cells": [
  {
   "cell_type": "code",
   "execution_count": 1,
   "metadata": {},
   "outputs": [],
   "source": [
    "from sklearn.tree import DecisionTreeRegressor\n",
    "import numpy as np\n",
    "\n",
    "# Size of the house (in square feet) and age of the house (in years)\n",
    "X = np.array([[1500, 5], [2000, 3], [2500, 10], [3000, 1]])\n",
    "# Price of the house (in dollars)\n",
    "y = np.array([300000, 400000, 450000, 600000])"
   ]
  },
  {
   "cell_type": "markdown",
   "metadata": {},
   "source": [
    "We could use a decision stump as our first weak learner, or we could use the average of the target values. Since the mean is easier to compute, we'll go with that.\n",
    "\n",
    "$$\n",
    "\\bar{y} = \\frac{300000 + 400000 + 450000 + 600000}{4} = 437500\n",
    "$$\n",
    "\n",
    "Next, we will compute the residuals."
   ]
  },
  {
   "cell_type": "code",
   "execution_count": 6,
   "metadata": {},
   "outputs": [
    {
     "name": "stdout",
     "output_type": "stream",
     "text": [
      "Baseline error: 87500.0\n",
      "Mean price: 437500.0\n",
      "Residuals: [-137500.  -37500.   12500.  162500.]\n",
      "Predictions: [-137500.  -12500.  -12500.  162500.]\n",
      "New error: 12500.0\n"
     ]
    }
   ],
   "source": [
    "mean_price = np.mean(y)\n",
    "residuals = y - mean_price\n",
    "\n",
    "# Compute the baseline error\n",
    "baseline_error = np.mean(np.abs(residuals))\n",
    "print(\"Baseline error: {}\".format(baseline_error))\n",
    "\n",
    "print(\"Mean price: {}\".format(mean_price))\n",
    "print(\"Residuals: {}\".format(residuals))\n",
    "\n",
    "# Create a decision tree regressor and fit it to the data\n",
    "regressor = DecisionTreeRegressor(max_depth=2)\n",
    "regressor.fit(X, residuals)\n",
    "\n",
    "# Make predictions on the training data\n",
    "predictions = regressor.predict(X)\n",
    "print(\"Predictions: {}\".format(predictions))\n",
    "\n",
    "# Update the predictions with the residuals\n",
    "predictions_updated = predictions + mean_price\n",
    "\n",
    "# Compute the error\n",
    "errors = np.mean(np.abs(predictions_updated - y))\n",
    "print(\"New error: {}\".format(errors))"
   ]
  },
  {
   "cell_type": "markdown",
   "metadata": {},
   "source": [
    "By boosting the original predictions with a single decision tree, the error was reduced from 87500 to 12500. The algorithm continues for as many trees as we specify. The final prediction is the sum of the predictions from all the trees.\n",
    "Let's add 1 more and see how the error improves."
   ]
  },
  {
   "cell_type": "code",
   "execution_count": 9,
   "metadata": {},
   "outputs": [
    {
     "name": "stdout",
     "output_type": "stream",
     "text": [
      "Residuals: [     0. -25000.  25000.      0.]\n",
      "Predictions: [     0. -12500.  25000. -12500.]\n",
      "Predictions: [300000. 412500. 450000. 587500.]\n",
      "New error: 6250.0\n"
     ]
    }
   ],
   "source": [
    "# Get the updated residuals\n",
    "residuals_updated = y - predictions_updated\n",
    "\n",
    "print(\"Residuals: {}\".format(residuals_updated))\n",
    "\n",
    "# Create a new decision tree regressor\n",
    "regressor2 = DecisionTreeRegressor(max_depth=2)\n",
    "regressor2.fit(X, residuals_updated)\n",
    "\n",
    "# Make predictions on the training data\n",
    "predictions2 = regressor2.predict(X)\n",
    "print(\"Predictions: {}\".format(predictions2))\n",
    "\n",
    "# Update the predictions\n",
    "predictions_updated2 = predictions2 + predictions_updated\n",
    "\n",
    "print(\"Predictions: {}\".format(predictions_updated2))\n",
    "\n",
    "# Compute the error\n",
    "errors2 = np.mean(np.abs(predictions_updated2 - y))\n",
    "print(\"New error: {}\".format(errors2))"
   ]
  }
 ],
 "metadata": {
  "kernelspec": {
   "display_name": "cse6363",
   "language": "python",
   "name": "python3"
  },
  "language_info": {
   "codemirror_mode": {
    "name": "ipython",
    "version": 3
   },
   "file_extension": ".py",
   "mimetype": "text/x-python",
   "name": "python",
   "nbconvert_exporter": "python",
   "pygments_lexer": "ipython3",
   "version": "3.11.3"
  },
  "orig_nbformat": 4
 },
 "nbformat": 4,
 "nbformat_minor": 2
}
