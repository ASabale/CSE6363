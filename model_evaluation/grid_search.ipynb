{
 "cells": [
  {
   "cell_type": "markdown",
   "metadata": {},
   "source": [
    "# Hyperparameter Search\n",
    "\n",
    "This notebook demonstrates the different options for hyperparameter search available in `scikit-learn`."
   ]
  },
  {
   "cell_type": "code",
   "execution_count": null,
   "metadata": {},
   "outputs": [],
   "source": [
    "import numpy as np\n",
    "from sklearn.model_selection import GridSearchCV, train_test_split\n",
    "from sklearn.svm import SVC\n",
    "from sklearn.datasets import load_digits\n",
    "from pandas import DataFrame\n",
    "\n",
    "# Load the dataset\n",
    "X, y = load_digits(return_X_y=True)\n",
    "\n",
    "# Split dataset\n",
    "X_train, X_test, y_train, y_test = train_test_split(X, y, test_size=0.2, random_state=1)"
   ]
  },
  {
   "cell_type": "code",
   "execution_count": null,
   "metadata": {},
   "outputs": [],
   "source": [
    "model = SVC(random_state=1)\n",
    "param_range = [0.0001, 0.001, 0.01, 0.1, 1.0, 10.0, 100.0, 1000.0]\n",
    "param_grid = [{\n",
    "    'C': param_range,\n",
    "    'kernel': ['linear']\n",
    "},\n",
    "{\n",
    "    'C': param_range,\n",
    "    'gamma': param_range,\n",
    "    'kernel': ['rbf']\n",
    "}]\n",
    "\n",
    "gs = GridSearchCV(estimator=model,\n",
    "                  param_grid=param_grid,\n",
    "                  scoring='accuracy',\n",
    "                  cv=10,\n",
    "                  refit=True,\n",
    "                  n_jobs=-1) # run on all cores\n",
    "\n",
    "\n",
    "gs = gs.fit(X_train, y_train)\n",
    "\n",
    "# Retrieve the best estimator -- GridSearchCV will refit it on all of the training data\n",
    "clf = gs.best_estimator_\n",
    "\n",
    "print(f'Test accuracy: {clf.score(X_test, y_test):.3f}')\n",
    "\n",
    "# Display results in a table\n",
    "print(gs.best_params_)\n",
    "param_results = DataFrame(gs.cv_results_)\n",
    "param_results"
   ]
  }
 ],
 "metadata": {
  "kernelspec": {
   "display_name": "cse6363",
   "language": "python",
   "name": "python3"
  },
  "language_info": {
   "codemirror_mode": {
    "name": "ipython",
    "version": 3
   },
   "file_extension": ".py",
   "mimetype": "text/x-python",
   "name": "python",
   "nbconvert_exporter": "python",
   "pygments_lexer": "ipython3",
   "version": "3.11.5"
  },
  "orig_nbformat": 4,
  "vscode": {
   "interpreter": {
    "hash": "d3b6a6ff37777e29af01f3b2e09adff2d731c41e68df337dd356cdd606497958"
   }
  }
 },
 "nbformat": 4,
 "nbformat_minor": 2
}
