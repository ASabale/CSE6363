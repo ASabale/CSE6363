{
 "cells": [
  {
   "cell_type": "code",
   "execution_count": 36,
   "metadata": {},
   "outputs": [
    {
     "name": "stdout",
     "output_type": "stream",
     "text": [
      "X_transformed.shape = (1000, 182103)\n"
     ]
    }
   ],
   "source": [
    "import numpy as np\n",
    "from sklearn.preprocessing import PolynomialFeatures\n",
    "from sklearn.linear_model import Ridge\n",
    "from sklearn.kernel_ridge import KernelRidge\n",
    "\n",
    "\n",
    "num_samples = 1000\n",
    "num_features = 100\n",
    "\n",
    "# Create a sample dataset with a leading one for the bias term\n",
    "X = np.random.randn(num_samples, num_features + 1)\n",
    "X[:, 0] = 1.0\n",
    "\n",
    "# Create the labels\n",
    "y = np.random.randn(num_samples, 1)\n",
    "\n",
    "# Create a feature transform that transforms the input into a vector that contains all the monomials of degree <= 3\n",
    "feature_transform = PolynomialFeatures(degree=3, include_bias=False)\n",
    "X_transformed = feature_transform.fit_transform(X)\n",
    "\n",
    "print(\"X_transformed.shape = {}\".format(X_transformed.shape))\n"
   ]
  },
  {
   "cell_type": "code",
   "execution_count": 37,
   "metadata": {},
   "outputs": [
    {
     "name": "stdout",
     "output_type": "stream",
     "text": [
      "346 ms ± 2.84 ms per loop (mean ± std. dev. of 7 runs, 1 loop each)\n",
      "2.15 s ± 1.18 s per loop (mean ± std. dev. of 7 runs, 1 loop each)\n"
     ]
    }
   ],
   "source": [
    "# Benchmark transforming the features and fitting a linear regression model\n",
    "%timeit feature_transform.fit_transform(X)\n",
    "%timeit Ridge().fit(X_transformed, y)"
   ]
  },
  {
   "cell_type": "code",
   "execution_count": 38,
   "metadata": {},
   "outputs": [
    {
     "name": "stdout",
     "output_type": "stream",
     "text": [
      "50 ms ± 8.71 ms per loop (mean ± std. dev. of 7 runs, 10 loops each)\n",
      "The slowest run took 62.70 times longer than the fastest. This could mean that an intermediate result is being cached.\n",
      "148 ms ± 246 ms per loop (mean ± std. dev. of 7 runs, 10 loops each)\n"
     ]
    }
   ],
   "source": [
    "# The kernel matrix is the inner product of the transformed features\n",
    "# We can create this using the original data\n",
    "def kernel(X, y):\n",
    "    \"\"\"\n",
    "    Computes the kernel matrix for the polynomial kernel of degree 3\n",
    "\n",
    "    :param X: The original data matrix (n_samples, n_features)\n",
    "    :param y: The input sample (n_features, 1)\n",
    "    \"\"\"\n",
    "    k = x @ y\n",
    "    return 1 + k + k**2 + k**3\n",
    "\n",
    "def precompute_kernel(X):\n",
    "    K = X @ X.T\n",
    "    return 1 + K + K**2 + K**3\n",
    "\n",
    "# Prec ompute the kernel matrix\n",
    "alpha = 1.0\n",
    "K = precompute_kernel(X)\n",
    "a = np.linalg.solve(K + alpha * np.eye(K.shape[0]), y)\n",
    "\n",
    "# Benchmark fitting a kernel ridge regression model\n",
    "%timeit precompute_kernel(X)\n",
    "%timeit np.linalg.solve(K + alpha * np.eye(K.shape[0]), y)"
   ]
  }
 ],
 "metadata": {
  "kernelspec": {
   "display_name": "cse6363",
   "language": "python",
   "name": "python3"
  },
  "language_info": {
   "codemirror_mode": {
    "name": "ipython",
    "version": 3
   },
   "file_extension": ".py",
   "mimetype": "text/x-python",
   "name": "python",
   "nbconvert_exporter": "python",
   "pygments_lexer": "ipython3",
   "version": "3.11.3"
  },
  "orig_nbformat": 4
 },
 "nbformat": 4,
 "nbformat_minor": 2
}
